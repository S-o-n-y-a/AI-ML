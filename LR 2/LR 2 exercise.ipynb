{
 "cells": [
  {
   "cell_type": "code",
   "execution_count": 1,
   "id": "6c132ca6-1ca4-4f61-aa4c-ca7f731f26e4",
   "metadata": {},
   "outputs": [
    {
     "name": "stdout",
     "output_type": "stream",
     "text": [
      "[[ 2 10 14]\n",
      " [ 4 12 18]\n",
      " [ 8 16  6]]\n",
      "[[ 2 10  0]\n",
      " [ 4  0  0]\n",
      " [ 8  0  6]]\n"
     ]
    }
   ],
   "source": [
    "import numpy as np\n",
    "matrix = np.matrix(\"1,5,7;2,6,9;4,8,3\")\n",
    "multiple = matrix * 2\n",
    "print(multiple)\n",
    "multiple[multiple > 10] = 0\n",
    "print(multiple)"
   ]
  },
  {
   "cell_type": "code",
   "execution_count": 3,
   "id": "6396a240-5f60-402f-bec8-334e768e14db",
   "metadata": {},
   "outputs": [
    {
     "name": "stdout",
     "output_type": "stream",
     "text": [
      "[97 95 11 25 39  6 12 71 52 25  7 63 20 85 97 28  6 41 34 42]\n",
      "элементы, которые делятся на 5 без остатка:\n",
      " [95 25 25 20 85]\n",
      "Обновлённый массив:\n",
      " [97 -1 11 -1 39  6 12 71 52 -1  7 63 -1 -1 97 28  6 41 34 42]\n"
     ]
    }
   ],
   "source": [
    "arr = np.random.randint(1, 101, 20)\n",
    "print(arr)\n",
    "div_5 = arr[arr % 5 == 0]\n",
    "print(\"элементы, которые делятся на 5 без остатка:\\n\", div_5)\n",
    "arr[arr % 5 == 0] = -1\n",
    "print(\"Обновлённый массив:\\n\", arr)"
   ]
  },
  {
   "cell_type": "code",
   "execution_count": 5,
   "id": "55808b7b-771e-4bfe-a9e8-fe3a5f5bfdf4",
   "metadata": {},
   "outputs": [
    {
     "name": "stdout",
     "output_type": "stream",
     "text": [
      "Первый массив:\n",
      " [29 14 49 20 36]\n",
      "Второй массив:\n",
      " [37 28 16 31 23]\n",
      "Объединенный массив:\n",
      " [[29 14 49 20 36]\n",
      " [37 28 16 31 23]]\n",
      "Разделенные массивы:\n",
      "Первый: [[29 14 49 20 36]] \n",
      "Второй: [[37 28 16 31 23]]\n"
     ]
    }
   ],
   "source": [
    "a = np.random.randint(0, 51, 5)\n",
    "print(\"Первый массив:\\n\", a)\n",
    "b = np.random.randint(0, 51, 5)\n",
    "print(\"Второй массив:\\n\", b)\n",
    "ab = np.vstack((a,b))\n",
    "print(\"Объединенный массив:\\n\", ab)\n",
    "a1, b1 = np.vsplit(ab, 2)\n",
    "print(\"Разделенные массивы:\\nПервый:\", a1, \"\\nВторой:\", b1)"
   ]
  },
  {
   "cell_type": "code",
   "execution_count": 7,
   "id": "f0b863d0-787b-4c80-95bf-c52268063f12",
   "metadata": {},
   "outputs": [
    {
     "name": "stdout",
     "output_type": "stream",
     "text": [
      "Созданный массив:  [ -8   7  -1  -6  -1   2  10   0  -2  -2  -8   0   4  -7  -9  -8  -3  -8\n",
      "   4  -3  -4   8 -10   8  -8  -6   7  -4  -2  -9   0   0   4  -7   1  -2\n",
      "  -4  -7  -3   5   9   5   9  10  10   8  -1   4   4  -4]\n",
      "Сумма всех элементов:  -18\n",
      "Сумма положительных элементов:  119\n",
      "Сумма отрицательных элементов:  -137\n"
     ]
    }
   ],
   "source": [
    "a = np.random.randint(-10, 11, 50)\n",
    "print(\"Созданный массив: \", a)\n",
    "summ_all = np.sum(a)\n",
    "print(\"Сумма всех элементов: \", summ_all)\n",
    "pos_summ = np.sum(a[a > 0])\n",
    "print(\"Сумма положительных элементов: \", pos_summ)\n",
    "neg_summ = np.sum(a[a < 0])\n",
    "print(\"Сумма отрицательных элементов: \", neg_summ)"
   ]
  },
  {
   "cell_type": "code",
   "execution_count": 9,
   "id": "9f5975f1-9955-4434-a15c-0f5431ec9b1b",
   "metadata": {},
   "outputs": [
    {
     "name": "stdout",
     "output_type": "stream",
     "text": [
      "Единичная матрица: \n",
      " [[1. 0. 0. 0.]\n",
      " [0. 1. 0. 0.]\n",
      " [0. 0. 1. 0.]\n",
      " [0. 0. 0. 1.]]\n",
      "Диагональная матрица:\n",
      " [[ 5  0  0  0]\n",
      " [ 0 10  0  0]\n",
      " [ 0  0 15  0]\n",
      " [ 0  0  0 20]]\n",
      "Сумма элементов единичной матрицы:\n",
      " 4.0\n",
      "Сумма элементов диагональной матрицы:\n",
      " 50\n",
      "По результатам сумма элементов диагональной матрицы оказалась больше, чем единичной.\n"
     ]
    }
   ],
   "source": [
    "edm = np.identity(4)\n",
    "print(\"Единичная матрица: \\n\", edm)\n",
    "diagm = np.diag([5, 10, 15, 20])\n",
    "print(\"Диагональная матрица:\\n\", diagm)\n",
    "edm_summ = np.sum(edm)\n",
    "print(\"Сумма элементов единичной матрицы:\\n\", edm_summ)\n",
    "diagm_summ = np.sum(diagm)\n",
    "print(\"Сумма элементов диагональной матрицы:\\n\", diagm_summ)\n",
    "print(\"По результатам сумма элементов диагональной матрицы оказалась больше, чем единичной.\")"
   ]
  },
  {
   "cell_type": "code",
   "execution_count": 11,
   "id": "3c69ab3c-019e-4f64-a1d1-7b16887c4943",
   "metadata": {},
   "outputs": [
    {
     "name": "stdout",
     "output_type": "stream",
     "text": [
      "Первая матрица:\n",
      " [[11  5 15]\n",
      " [ 9 19 18]\n",
      " [10 11  1]]\n",
      "Вторая матрица:\n",
      " [[ 4 14 12]\n",
      " [12 15 13]\n",
      " [13 15  1]]\n",
      "Сумма:  [[15 19 27]\n",
      " [21 34 31]\n",
      " [23 26  2]]\n",
      "Разница:  [[ 7 -9  3]\n",
      " [-3  4  5]\n",
      " [-3 -4  0]]\n",
      "Произведение:  [[ 44  70 180]\n",
      " [108 285 234]\n",
      " [130 165   1]]\n"
     ]
    }
   ],
   "source": [
    "a = np.random.randint(1, 21, (3, 3))\n",
    "print(\"Первая матрица:\\n\", a)\n",
    "b = np.random.randint(1, 21, (3, 3))\n",
    "print(\"Вторая матрица:\\n\", b)\n",
    "summ = a + b\n",
    "print(\"Сумма: \", summ)\n",
    "razn = a - b\n",
    "print(\"Разница: \", razn)\n",
    "proz = a * b\n",
    "print(\"Произведение: \", proz)"
   ]
  },
  {
   "cell_type": "code",
   "execution_count": 13,
   "id": "91d24a42-fa64-4c46-900d-456fd3d5bcc5",
   "metadata": {},
   "outputs": [
    {
     "name": "stdout",
     "output_type": "stream",
     "text": [
      "Первая матрица:\n",
      " [[6 8 8]\n",
      " [1 7 4]]\n",
      "Вторая матрица:\n",
      " [[ 5  6]\n",
      " [ 1 10]\n",
      " [ 7  4]]\n",
      "Матричное умножение:\n",
      " [[ 94 148]\n",
      " [ 40  92]]\n"
     ]
    }
   ],
   "source": [
    "a = np.random.randint(1, 11, (2, 3))\n",
    "print(\"Первая матрица:\\n\", a)\n",
    "b = np.random.randint(1, 11, (3, 2))\n",
    "print(\"Вторая матрица:\\n\", b)\n",
    "mult = a @ b\n",
    "print(\"Матричное умножение:\\n\", mult)"
   ]
  },
  {
   "cell_type": "code",
   "execution_count": 15,
   "id": "59fb0384-0f4b-4cb1-8e1b-cb98fc697e65",
   "metadata": {},
   "outputs": [
    {
     "name": "stdout",
     "output_type": "stream",
     "text": [
      "Матрица:\n",
      " [[10 18 19]\n",
      " [ 5 11  9]\n",
      " [19 16 12]]\n",
      "Определитель:\n",
      " -572.9999999999997\n",
      "Обратная матрица:\n",
      " [[ 0.02094241 -0.15357766  0.08202443]\n",
      " [-0.19371728  0.42059337 -0.008726  ]\n",
      " [ 0.22513089 -0.31762653 -0.03490401]]\n"
     ]
    }
   ],
   "source": [
    "a = np.random.randint(1, 21, (3, 3))\n",
    "print(\"Матрица:\\n\", a)\n",
    "det = np.linalg.det(a)\n",
    "print(\"Определитель:\\n\", det)\n",
    "if np.isclose(det, 0):\n",
    "    inv = \"Матрица вырождена\"\n",
    "else:\n",
    "    inv = np.linalg.inv(a)\n",
    "print(\"Обратная матрица:\\n\", inv)"
   ]
  },
  {
   "cell_type": "code",
   "execution_count": 17,
   "id": "cd140c11-fa0d-4f30-84b3-9030e9391cdd",
   "metadata": {},
   "outputs": [
    {
     "name": "stdout",
     "output_type": "stream",
     "text": [
      "Матрица:\n",
      " [[23 34 32 31]\n",
      " [ 1  6 48 22]\n",
      " [35 11 47 15]\n",
      " [39  1 47 38]]\n",
      "Транспонированная матрица:\n",
      " [[23  1 35 39]\n",
      " [34  6 11  1]\n",
      " [32 48 47 47]\n",
      " [31 22 15 38]]\n",
      "След матрицы:\n",
      " 114\n"
     ]
    }
   ],
   "source": [
    "a = np.random.randint(1, 51, (4, 4))\n",
    "print(\"Матрица:\\n\", a)\n",
    "transp = a.T\n",
    "print(\"Транспонированная матрица:\\n\", transp)\n",
    "value = np.trace(a)\n",
    "print(\"След матрицы:\\n\", value)"
   ]
  },
  {
   "cell_type": "code",
   "execution_count": 19,
   "id": "0100987a-b577-4613-969e-a9999353703a",
   "metadata": {},
   "outputs": [
    {
     "name": "stdout",
     "output_type": "stream",
     "text": [
      "Решение системы:  [1.63963964 0.57657658 0.00900901]\n"
     ]
    }
   ],
   "source": [
    "A = np.array([[2, 3, -1],\n",
    "             [4, -1, 2],\n",
    "             [-3, 5, 4]])\n",
    "B = np.array([5, 6, -2])\n",
    "res = np.linalg.solve(A, B)\n",
    "print(\"Решение системы: \", res)"
   ]
  },
  {
   "cell_type": "markdown",
   "id": "8a63c916-370f-426e-b1f2-05f3374f14e8",
   "metadata": {},
   "source": [
    "В диете необходимо включить три продукта: мясо, рыбу и овощи. Они содержат белки, жиры и углеводы в разном количестве. В 100 г мяса содержится 20 г белков, 10 г жиров и 5 г углеводов, в 100 г рыбы — 15 г белков, 5 г жиров и 10 г углеводов, в 100 г овощей — 5 г белков, 2 г жиров и 20 г углеводов. Суточная норма: 100 г белков, 50 г жиров и 150 г углеводов. Сколько граммов каждого продукта нужно съесть?"
   ]
  },
  {
   "cell_type": "code",
   "execution_count": 1,
   "id": "0e3fb645-2bf9-4a50-9182-8243b20caa5e",
   "metadata": {},
   "outputs": [
    {
     "name": "stdout",
     "output_type": "stream",
     "text": [
      "Метод Крамера:  [ 4.28571429 -1.42857143  7.14285714]\n",
      "Метод матричного уравнения:  [ 4.28571429 -1.42857143  7.14285714]\n",
      "Библиотека NumPy:  [ 4.28571429 -1.42857143  7.14285714]\n"
     ]
    }
   ],
   "source": [
    "import numpy as np\n",
    "\n",
    "# Матрица содержания питательных веществ в продуктах (белки, жиры, углеводы)\n",
    "A = np.array([[20, 15, 5],   # Белки\n",
    "              [10, 5, 2],    # Жиры\n",
    "              [5, 10, 20]])  # Углеводы\n",
    "\n",
    "# Вектор суточной нормы питательных веществ\n",
    "B = np.array([100, 50, 150])  # Белки, жиры, углеводы\n",
    "\n",
    "# Решение системы уравнений методом Крамера\n",
    "det_A = np.linalg.det(A)\n",
    "if det_A != 0:\n",
    "    kram1 = np.linalg.det(np.column_stack([B, A[:, 1], A[:, 2]])) / det_A\n",
    "    kram2 = np.linalg.det(np.column_stack([A[:, 0], B, A[:, 2]])) / det_A\n",
    "    kram3 = np.linalg.det(np.column_stack([A[:, 0], A[:, 1], B])) / det_A\n",
    "    kramer = np.array([kram1, kram2, kram3])\n",
    "else:\n",
    "    kramer = \"не применим\"\n",
    "\n",
    "# Решение методом матричного уравнения\n",
    "if det_A == 0:\n",
    "    matrix = \"не применим\"\n",
    "else:\n",
    "    matrix = np.linalg.inv(A).dot(B)\n",
    "\n",
    "# Решение системы уравнений средствами библиотеки NumPy\n",
    "try:\n",
    "    numpy_solution = np.linalg.solve(A, B)\n",
    "except np.linalg.LinAlgError:\n",
    "    numpy_solution = \"не применим\"\n",
    "\n",
    "print(\"Метод Крамера: \", kramer)\n",
    "print(\"Метод матричного уравнения: \", matrix)\n",
    "print(\"Библиотека NumPy: \", numpy_solution)"
   ]
  },
  {
   "cell_type": "code",
   "execution_count": null,
   "id": "876180a6-1b9f-49ab-8484-61288b6cbeeb",
   "metadata": {},
   "outputs": [],
   "source": []
  }
 ],
 "metadata": {
  "kernelspec": {
   "display_name": "Python [conda env:base] *",
   "language": "python",
   "name": "conda-base-py"
  },
  "language_info": {
   "codemirror_mode": {
    "name": "ipython",
    "version": 3
   },
   "file_extension": ".py",
   "mimetype": "text/x-python",
   "name": "python",
   "nbconvert_exporter": "python",
   "pygments_lexer": "ipython3",
   "version": "3.12.7"
  }
 },
 "nbformat": 4,
 "nbformat_minor": 5
}
