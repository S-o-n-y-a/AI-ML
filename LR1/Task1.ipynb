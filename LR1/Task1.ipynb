{
 "cells": [
  {
   "cell_type": "markdown",
   "id": "3f3c3000-0145-43c1-abf2-d915935b3d75",
   "metadata": {},
   "source": [
    "## Практическое задание №1\n",
    "**Жирный** и *курсивный* текст\n",
    "\n",
    "Для приготовления омлета понадобится:\n",
    "- яйца 2 шт;\n",
    "- молоко 50 мл;\n",
    "- соль (по вкусу);\n",
    "- растительное масло.\n",
    "\n",
    "Приготовление:\n",
    "1) Взбить яйца миксером (можно венчиком или вилкой)\n",
    "2) Влить молоко, добавить соль, перемешать все до однородной массы\n",
    "3) Разогреть сковороду, добавить масло. Вылить смесь на сковородку. Убавить огонь. Готовить 3 минуты\n",
    "4) Накрыть крышкой, уменьшить огонь, оставить готовиться на 4 минуты\n",
    "5) Выложить готовый омлет на тарелку\n",
    "\n",
    "Формула 4 варианта$\\int cos(x)\\, dx$ = sin(x) + C\n",
    "![Zzz](https://sun9-69.userapi.com/impf/OVfiBBGnv9jwd-CIYAb8AoEaTDKOdEFbc67S6g/WyLDzXcZbuw.jpg?size=616x501&quality=96&sign=d1ef13a44bda3073da33847650a1364a&type=album)"
   ]
  },
  {
   "cell_type": "code",
   "execution_count": 23,
   "id": "ab7fe78b-283f-4fcb-9b12-d1e3023e4a02",
   "metadata": {},
   "outputs": [
    {
     "name": "stdin",
     "output_type": "stream",
     "text": [
      "Введите Ваше имя:  Соня\n"
     ]
    },
    {
     "name": "stdout",
     "output_type": "stream",
     "text": [
      "Привет, Соня ! Добро пожаловать в JupyterLab/Google Colab!\n"
     ]
    }
   ],
   "source": [
    "name = input(\"Введите Ваше имя: \")\n",
    "print(\"Привет,\", name, \"! Добро пожаловать в JupyterLab/Google Colab!\")"
   ]
  },
  {
   "cell_type": "code",
   "execution_count": 25,
   "id": "f907d569-097f-461a-8994-33847fe7d0f6",
   "metadata": {},
   "outputs": [
    {
     "name": "stdout",
     "output_type": "stream",
     "text": [
      "Содержимое файла:\n",
      " Когда живешь, как белка в колесе,\n",
      "На грани истощенья организма,\n",
      "Тебя спасает ото вся и всех\n",
      "Целительная доза пофигизма.\n",
      "\n",
      "Файл существует:  True\n",
      "Файл удален.\n"
     ]
    }
   ],
   "source": [
    "import os\n",
    "\n",
    "#создание и запись в файл\n",
    "with open(\"Text.txt\", \"w\") as f:\n",
    "    f.write(\"Когда живешь, как белка в колесе,\\n\")\n",
    "    f.write(\"На грани истощенья организма,\\n\")\n",
    "    f.write(\"Тебя спасает ото вся и всех\\n\")\n",
    "    f.write(\"Целительная доза пофигизма.\\n\")\n",
    "\n",
    "#Чтение файла\n",
    "with open(\"Text.txt\", \"r\") as f:\n",
    "    content = f.read()\n",
    "    print(\"Содержимое файла:\\n\", content)\n",
    "\n",
    "#Проверка существования файла\n",
    "print(\"Файл существует: \", os.path.exists(\"Text.txt\"))\n",
    "\n",
    "#Удаление файла\n",
    "os.remove(\"Text.txt\")\n",
    "print(\"Файл удален.\")"
   ]
  },
  {
   "cell_type": "code",
   "execution_count": 27,
   "id": "170c99c1-4324-460f-a16f-6983cceccb29",
   "metadata": {},
   "outputs": [
    {
     "data": {
      "application/json": {
       "cell": {
        "!": "OSMagics",
        "HTML": "Other",
        "SVG": "Other",
        "bash": "Other",
        "capture": "ExecutionMagics",
        "cmd": "Other",
        "code_wrap": "ExecutionMagics",
        "debug": "ExecutionMagics",
        "file": "Other",
        "html": "DisplayMagics",
        "javascript": "DisplayMagics",
        "js": "DisplayMagics",
        "latex": "DisplayMagics",
        "markdown": "DisplayMagics",
        "perl": "Other",
        "prun": "ExecutionMagics",
        "pypy": "Other",
        "python": "Other",
        "python2": "Other",
        "python3": "Other",
        "ruby": "Other",
        "script": "ScriptMagics",
        "sh": "Other",
        "svg": "DisplayMagics",
        "sx": "OSMagics",
        "system": "OSMagics",
        "time": "ExecutionMagics",
        "timeit": "ExecutionMagics",
        "writefile": "OSMagics"
       },
       "line": {
        "alias": "OSMagics",
        "alias_magic": "BasicMagics",
        "autoawait": "AsyncMagics",
        "autocall": "AutoMagics",
        "automagic": "AutoMagics",
        "autosave": "KernelMagics",
        "bookmark": "OSMagics",
        "cd": "OSMagics",
        "clear": "KernelMagics",
        "cls": "KernelMagics",
        "code_wrap": "ExecutionMagics",
        "colors": "BasicMagics",
        "conda": "PackagingMagics",
        "config": "ConfigMagics",
        "connect_info": "KernelMagics",
        "copy": "Other",
        "ddir": "Other",
        "debug": "ExecutionMagics",
        "dhist": "OSMagics",
        "dirs": "OSMagics",
        "doctest_mode": "BasicMagics",
        "echo": "Other",
        "ed": "Other",
        "edit": "KernelMagics",
        "env": "OSMagics",
        "gui": "BasicMagics",
        "hist": "Other",
        "history": "HistoryMagics",
        "killbgscripts": "ScriptMagics",
        "ldir": "Other",
        "less": "KernelMagics",
        "load": "CodeMagics",
        "load_ext": "ExtensionMagics",
        "loadpy": "CodeMagics",
        "logoff": "LoggingMagics",
        "logon": "LoggingMagics",
        "logstart": "LoggingMagics",
        "logstate": "LoggingMagics",
        "logstop": "LoggingMagics",
        "ls": "Other",
        "lsmagic": "BasicMagics",
        "macro": "ExecutionMagics",
        "magic": "BasicMagics",
        "mamba": "PackagingMagics",
        "matplotlib": "PylabMagics",
        "micromamba": "PackagingMagics",
        "mkdir": "Other",
        "more": "KernelMagics",
        "notebook": "BasicMagics",
        "page": "BasicMagics",
        "pastebin": "CodeMagics",
        "pdb": "ExecutionMagics",
        "pdef": "NamespaceMagics",
        "pdoc": "NamespaceMagics",
        "pfile": "NamespaceMagics",
        "pinfo": "NamespaceMagics",
        "pinfo2": "NamespaceMagics",
        "pip": "PackagingMagics",
        "popd": "OSMagics",
        "pprint": "BasicMagics",
        "precision": "BasicMagics",
        "prun": "ExecutionMagics",
        "psearch": "NamespaceMagics",
        "psource": "NamespaceMagics",
        "pushd": "OSMagics",
        "pwd": "OSMagics",
        "pycat": "OSMagics",
        "pylab": "PylabMagics",
        "qtconsole": "KernelMagics",
        "quickref": "BasicMagics",
        "recall": "HistoryMagics",
        "rehashx": "OSMagics",
        "reload_ext": "ExtensionMagics",
        "ren": "Other",
        "rep": "Other",
        "rerun": "HistoryMagics",
        "reset": "NamespaceMagics",
        "reset_selective": "NamespaceMagics",
        "rmdir": "Other",
        "run": "ExecutionMagics",
        "save": "CodeMagics",
        "sc": "OSMagics",
        "set_env": "OSMagics",
        "store": "StoreMagics",
        "sx": "OSMagics",
        "system": "OSMagics",
        "tb": "ExecutionMagics",
        "time": "ExecutionMagics",
        "timeit": "ExecutionMagics",
        "unalias": "OSMagics",
        "unload_ext": "ExtensionMagics",
        "who": "NamespaceMagics",
        "who_ls": "NamespaceMagics",
        "whos": "NamespaceMagics",
        "xdel": "NamespaceMagics",
        "xmode": "BasicMagics"
       }
      },
      "text/plain": [
       "Available line magics:\n",
       "%alias  %alias_magic  %autoawait  %autocall  %automagic  %autosave  %bookmark  %cd  %clear  %cls  %code_wrap  %colors  %conda  %config  %connect_info  %copy  %ddir  %debug  %dhist  %dirs  %doctest_mode  %echo  %ed  %edit  %env  %gui  %hist  %history  %killbgscripts  %ldir  %less  %load  %load_ext  %loadpy  %logoff  %logon  %logstart  %logstate  %logstop  %ls  %lsmagic  %macro  %magic  %mamba  %matplotlib  %micromamba  %mkdir  %more  %notebook  %page  %pastebin  %pdb  %pdef  %pdoc  %pfile  %pinfo  %pinfo2  %pip  %popd  %pprint  %precision  %prun  %psearch  %psource  %pushd  %pwd  %pycat  %pylab  %qtconsole  %quickref  %recall  %rehashx  %reload_ext  %ren  %rep  %rerun  %reset  %reset_selective  %rmdir  %run  %save  %sc  %set_env  %store  %sx  %system  %tb  %time  %timeit  %unalias  %unload_ext  %who  %who_ls  %whos  %xdel  %xmode\n",
       "\n",
       "Available cell magics:\n",
       "%%!  %%HTML  %%SVG  %%bash  %%capture  %%cmd  %%code_wrap  %%debug  %%file  %%html  %%javascript  %%js  %%latex  %%markdown  %%perl  %%prun  %%pypy  %%python  %%python2  %%python3  %%ruby  %%script  %%sh  %%svg  %%sx  %%system  %%time  %%timeit  %%writefile\n",
       "\n",
       "Automagic is ON, % prefix IS NOT needed for line magics."
      ]
     },
     "execution_count": 27,
     "metadata": {},
     "output_type": "execute_result"
    }
   ],
   "source": [
    "%lsmagic"
   ]
  },
  {
   "cell_type": "code",
   "execution_count": 35,
   "id": "c5d76dc7-8f04-42db-ac1a-543708b08a85",
   "metadata": {},
   "outputs": [
    {
     "name": "stdout",
     "output_type": "stream",
     "text": [
      "Overwriting test_script.py\n"
     ]
    }
   ],
   "source": [
    "%%writefile test_script.py\n",
    "for i in range(3):\n",
    "    print(f\"Итерация {i}\")\n",
    "\n",
    "!python test_script.py\n",
    "\n",
    "%time sum(range(1000000))"
   ]
  },
  {
   "cell_type": "code",
   "execution_count": 41,
   "id": "43b24dc5-ebd7-4f31-9f19-b40a3273a594",
   "metadata": {},
   "outputs": [
    {
     "name": "stderr",
     "output_type": "stream",
     "text": [
      "\"ls\" ­Ґ пў«пҐвбп ў­гваҐ­­Ґ© Ё«Ё ў­Ґи­Ґ©\n",
      "Є®¬ ­¤®©, ЁбЇ®«­пҐ¬®© Їа®Ја ¬¬®© Ё«Ё Ї ЄҐв­л¬ д ©«®¬.\n"
     ]
    }
   ],
   "source": [
    "!ls"
   ]
  },
  {
   "cell_type": "code",
   "execution_count": 43,
   "id": "b17b5327-2d3a-44de-8228-7901538ce66c",
   "metadata": {},
   "outputs": [
    {
     "name": "stderr",
     "output_type": "stream",
     "text": [
      "\"which\" ­Ґ пў«пҐвбп ў­гваҐ­­Ґ© Ё«Ё ў­Ґи­Ґ©\n",
      "Є®¬ ­¤®©, ЁбЇ®«­пҐ¬®© Їа®Ја ¬¬®© Ё«Ё Ї ЄҐв­л¬ д ©«®¬.\n"
     ]
    }
   ],
   "source": [
    "!which python"
   ]
  },
  {
   "cell_type": "code",
   "execution_count": 45,
   "id": "72448d60-1f33-4433-89a4-62247e4644f9",
   "metadata": {},
   "outputs": [],
   "source": [
    "!mkdir new_folder"
   ]
  },
  {
   "cell_type": "code",
   "execution_count": 47,
   "id": "feb07c16-a8b6-430a-82e1-eb86d0a0dc42",
   "metadata": {},
   "outputs": [],
   "source": [
    "!rmdir new_folder"
   ]
  },
  {
   "cell_type": "code",
   "execution_count": 49,
   "id": "4e774142-65fe-40d9-9deb-1ccf8c58879d",
   "metadata": {},
   "outputs": [
    {
     "name": "stdout",
     "output_type": "stream",
     "text": [
      " ’®¬ ў гбва®©бвўҐ C Ё¬ҐҐв ¬ҐвЄг Acer\n",
      " ‘ҐаЁ©­л© ­®¬Ґа в®¬ : FA76-1D6E\n",
      "\n",
      " ‘®¤Ґа¦Ё¬®Ґ Ї ЇЄЁ C:\\Users\\ryaza\n",
      "\n",
      "06.04.2025  16:47    <DIR>          .\n",
      "06.04.2025  16:47    <DIR>          ..\n",
      "06.04.2025  16:46    <DIR>          #‘®§¤ ­ЁҐ\n",
      "16.02.2025  18:36    <DIR>          .anaconda\n",
      "07.04.2024  22:22    <DIR>          .android\n",
      "15.02.2022  15:16                23 .bash_history\n",
      "21.04.2021  22:21    <DIR>          .cache\n",
      "10.03.2025  10:38    <DIR>          .conda\n",
      "10.03.2025  10:37               164 .condarc\n",
      "16.02.2025  18:36    <DIR>          .continuum\n",
      "22.12.2024  16:34    <DIR>          .crossnote\n",
      "09.05.2021  19:00    <DIR>          .dbus-keyrings\n",
      "04.06.2024  17:14    <DIR>          .dotnet\n",
      "15.02.2022  15:17               204 .gitconfig\n",
      "24.11.2021  17:24    <DIR>          .idlerc\n",
      "06.04.2025  16:03    <DIR>          .ipynb_checkpoints\n",
      "16.02.2025  15:07    <DIR>          .ipython\n",
      "16.02.2025  18:38    <DIR>          .jupyter\n",
      "15.06.2024  15:51                20 .lesshst\n",
      "05.04.2025  18:53    <DIR>          .matplotlib\n",
      "01.07.2022  08:19    <DIR>          .ms-ad\n",
      "04.04.2025  15:56               176 .packettracer\n",
      "09.02.2021  21:38    <DIR>          .swt\n",
      "04.04.2024  23:20    <DIR>          .templateengine\n",
      "15.06.2024  13:53             1я330 .viminfo\n",
      "26.11.2024  01:21    <DIR>          .VirtualBox\n",
      "16.03.2024  19:18    <DIR>          .vscode\n",
      "08.04.2021  21:42    <DIR>          3D Objects\n",
      "16.02.2025  18:39    <DIR>          Anaconda3\n",
      "10.03.2025  10:38    <DIR>          anaconda_projects\n",
      "04.04.2025  16:27    <DIR>          Cisco Packet Tracer 7.3.0\n",
      "08.04.2021  21:42    <DIR>          Contacts\n",
      "15.06.2024  14:46    <DIR>          demo\n",
      "06.04.2025  14:37    <DIR>          Desktop\n",
      "02.04.2025  22:23    <DIR>          Documents\n",
      "05.04.2025  19:18    <DIR>          Downloads\n",
      "08.04.2021  21:42    <DIR>          Favorites\n",
      "08.04.2021  21:42    <DIR>          Links\n",
      "05.04.2025  19:31            88я001 LR1 Examples.ipynb\n",
      "08.04.2021  21:42    <DIR>          Music\n",
      "16.07.2023  17:46    <DIR>          OneDrive\n",
      "06.04.2025  15:07    <DIR>          Pictures\n",
      "20.01.2022  18:39    <DIR>          PycharmProjects\n",
      "08.04.2021  21:42    <DIR>          Saved Games\n",
      "08.04.2021  21:42    <DIR>          Searches\n",
      "04.03.2022  14:24    <DIR>          source\n",
      "06.04.2025  16:42               111 test_script.py\n",
      "06.04.2025  16:47            11я836 Untitled1.ipynb\n",
      "25.01.2022  21:11    <DIR>          Videos\n",
      "12.09.2024  19:18    <DIR>          VirtualBox VMs\n",
      "20.02.2024  15:03    <DIR>          YandexDisk\n",
      "07.12.2024  20:22    <DIR>          Zoom\n",
      "06.04.2025  16:46    <DIR>          ­®ў®©\n",
      "               9 д ©«®ў        101я865 Ў ©в\n",
      "              44 Ї Ї®Є  66я284я900я352 Ў ©в бў®Ў®¤­®\n"
     ]
    }
   ],
   "source": [
    "!dir"
   ]
  },
  {
   "cell_type": "code",
   "execution_count": 51,
   "id": "280d3162-0907-4808-8ba8-fa7dd6b2e08f",
   "metadata": {},
   "outputs": [
    {
     "name": "stdout",
     "output_type": "stream",
     "text": [
      " ’®¬ ў гбва®©бвўҐ C Ё¬ҐҐв ¬ҐвЄг Acer\n",
      " ‘ҐаЁ©­л© ­®¬Ґа в®¬ : FA76-1D6E\n",
      "\n",
      " ‘®¤Ґа¦Ё¬®Ґ Ї ЇЄЁ C:\\Users\\ryaza\n",
      "\n",
      "06.04.2025  17:19    <DIR>          .\n",
      "06.04.2025  17:19    <DIR>          ..\n",
      "06.04.2025  16:46    <DIR>          #‘®§¤ ­ЁҐ\n",
      "16.02.2025  18:36    <DIR>          .anaconda\n",
      "07.04.2024  22:22    <DIR>          .android\n",
      "15.02.2022  15:16                23 .bash_history\n",
      "21.04.2021  22:21    <DIR>          .cache\n",
      "10.03.2025  10:38    <DIR>          .conda\n",
      "10.03.2025  10:37               164 .condarc\n",
      "16.02.2025  18:36    <DIR>          .continuum\n",
      "22.12.2024  16:34    <DIR>          .crossnote\n",
      "09.05.2021  19:00    <DIR>          .dbus-keyrings\n",
      "04.06.2024  17:14    <DIR>          .dotnet\n",
      "15.02.2022  15:17               204 .gitconfig\n",
      "24.11.2021  17:24    <DIR>          .idlerc\n",
      "06.04.2025  16:03    <DIR>          .ipynb_checkpoints\n",
      "16.02.2025  15:07    <DIR>          .ipython\n",
      "16.02.2025  18:38    <DIR>          .jupyter\n",
      "15.06.2024  15:51                20 .lesshst\n",
      "05.04.2025  18:53    <DIR>          .matplotlib\n",
      "01.07.2022  08:19    <DIR>          .ms-ad\n",
      "04.04.2025  15:56               176 .packettracer\n",
      "09.02.2021  21:38    <DIR>          .swt\n",
      "04.04.2024  23:20    <DIR>          .templateengine\n",
      "15.06.2024  13:53             1я330 .viminfo\n",
      "26.11.2024  01:21    <DIR>          .VirtualBox\n",
      "16.03.2024  19:18    <DIR>          .vscode\n",
      "08.04.2021  21:42    <DIR>          3D Objects\n",
      "16.02.2025  18:39    <DIR>          Anaconda3\n",
      "10.03.2025  10:38    <DIR>          anaconda_projects\n",
      "04.04.2025  16:27    <DIR>          Cisco Packet Tracer 7.3.0\n",
      "08.04.2021  21:42    <DIR>          Contacts\n",
      "15.06.2024  14:46    <DIR>          demo\n",
      "06.04.2025  14:37    <DIR>          Desktop\n",
      "02.04.2025  22:23    <DIR>          Documents\n",
      "05.04.2025  19:18    <DIR>          Downloads\n",
      "08.04.2021  21:42    <DIR>          Favorites\n",
      "08.04.2021  21:42    <DIR>          Links\n",
      "05.04.2025  19:31            88я001 LR1 Examples.ipynb\n",
      "08.04.2021  21:42    <DIR>          Music\n",
      "16.07.2023  17:46    <DIR>          OneDrive\n",
      "06.04.2025  15:07    <DIR>          Pictures\n",
      "20.01.2022  18:39    <DIR>          PycharmProjects\n",
      "08.04.2021  21:42    <DIR>          Saved Games\n",
      "08.04.2021  21:42    <DIR>          Searches\n",
      "04.03.2022  14:24    <DIR>          source\n",
      "06.04.2025  16:42               111 test_script.py\n",
      "06.04.2025  17:19            15я644 Untitled1.ipynb\n",
      "25.01.2022  21:11    <DIR>          Videos\n",
      "12.09.2024  19:18    <DIR>          VirtualBox VMs\n",
      "20.02.2024  15:03    <DIR>          YandexDisk\n",
      "07.12.2024  20:22    <DIR>          Zoom\n",
      "06.04.2025  16:46    <DIR>          ­®ў®©\n",
      "               9 д ©«®ў        105я673 Ў ©в\n",
      "              44 Ї Ї®Є  66я632я085я504 Ў ©в бў®Ў®¤­®\n",
      "C:\\Users\\ryaza\\Anaconda3\\python.exe\n",
      "C:\\Users\\ryaza\\AppData\\Local\\Microsoft\\WindowsApps\\python.exe\n"
     ]
    },
    {
     "name": "stderr",
     "output_type": "stream",
     "text": [
      "ЋиЁЎЄ  ў бЁ­в ЄбЁбҐ Є®¬ ­¤л.\n"
     ]
    }
   ],
   "source": [
    "!dir\n",
    "!where python\n",
    "!move Text.txt test_folder\\\n",
    "!del test_folder\\Text.txt"
   ]
  },
  {
   "cell_type": "code",
   "execution_count": null,
   "id": "91cb7611-3faf-4ff8-88d5-dfc89219ae81",
   "metadata": {},
   "outputs": [],
   "source": []
  }
 ],
 "metadata": {
  "kernelspec": {
   "display_name": "Python [conda env:base] *",
   "language": "python",
   "name": "conda-base-py"
  },
  "language_info": {
   "codemirror_mode": {
    "name": "ipython",
    "version": 3
   },
   "file_extension": ".py",
   "mimetype": "text/x-python",
   "name": "python",
   "nbconvert_exporter": "python",
   "pygments_lexer": "ipython3",
   "version": "3.12.7"
  }
 },
 "nbformat": 4,
 "nbformat_minor": 5
}
